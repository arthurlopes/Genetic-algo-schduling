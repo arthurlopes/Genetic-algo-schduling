{
 "cells": [
  {
   "cell_type": "code",
   "execution_count": 1,
   "metadata": {},
   "outputs": [],
   "source": [
    "import random\n",
    "import math\n",
    "import pprint as pp\n",
    "from sklearn.preprocessing import MinMaxScaler\n",
    "import numpy as np\n",
    "import matplotlib.pyplot as plt"
   ]
  },
  {
   "cell_type": "markdown",
   "metadata": {},
   "source": [
    "### Input matrix\n",
    "\n",
    "The matrix 'input_matrix' is the matrix that represents all the jobs and machine times. \n",
    "\n",
    "Each column is a machine and each line is the set of jobs for a given machine."
   ]
  },
  {
   "cell_type": "code",
   "execution_count": 2,
   "metadata": {},
   "outputs": [],
   "source": [
    "# Optimal solution is 193\n",
    "input_matrix = [[34,  2, 54, 61], \n",
    "                [15, 89, 70,  9], \n",
    "                [38, 19, 28, 87], \n",
    "                [95,  7, 34, 29]]"
   ]
  },
  {
   "cell_type": "markdown",
   "metadata": {},
   "source": [
    "### Function to generate a chromosome. \n",
    "\n",
    "It generates a permutation of the given size"
   ]
  },
  {
   "cell_type": "code",
   "execution_count": 3,
   "metadata": {},
   "outputs": [],
   "source": [
    "def generate_chromo(size):\n",
    "    return random.sample(range(0, size), size)"
   ]
  },
  {
   "cell_type": "markdown",
   "metadata": {},
   "source": [
    "### Function to convert a chromosome into a solution (table with scheduling times)\n",
    "\n",
    "The function receives an chromosome and used the sequence to schedule each task"
   ]
  },
  {
   "cell_type": "code",
   "execution_count": 4,
   "metadata": {
    "scrolled": false
   },
   "outputs": [],
   "source": [
    "def chromo_to_solution(chromo, matrix):\n",
    "    \n",
    "    num_machines = len(matrix[0])\n",
    "    \n",
    "    solution = []\n",
    "    for i in range(0, num_machines):\n",
    "        solution.append([{'job': -1, 'start': 0, 'end': 0}])\n",
    "    \n",
    "    for index in chromo:\n",
    "        job     = math.floor(index / len(matrix))\n",
    "        machine = (index % len(matrix[0]))\n",
    "        \n",
    "        start   = solution[machine][-1]['end']\n",
    "        end     = start + matrix[job][machine]\n",
    "        flag = True\n",
    "        while flag:\n",
    "            flag = False\n",
    "            for m in range(0, num_machines):\n",
    "                if m == machine: \n",
    "                    continue\n",
    "                for dic in solution[m]:\n",
    "                    if dic['job'] == job:\n",
    "                        if (start < dic['start'] <= end or start < dic['end'] <= end) or (dic['start'] <= start < dic['end'] and dic['start'] <= end < dic['end']):\n",
    "                            start = dic['end']\n",
    "                            end   = start + matrix[job][machine]\n",
    "                            flag  = True\n",
    "\n",
    "        solution[machine].append({'job' : job, 'start' : start, 'end' : end})\n",
    "    \n",
    "    solution = [x[1:] for x in solution]\n",
    "    \n",
    "    return solution"
   ]
  },
  {
   "cell_type": "markdown",
   "metadata": {},
   "source": [
    "### Fitness function\n",
    "\n",
    "Function to calculate the maximum finishing time for a given solution"
   ]
  },
  {
   "cell_type": "code",
   "execution_count": 5,
   "metadata": {},
   "outputs": [],
   "source": [
    "def fitness_func(chromo, matrix, verbose=False):\n",
    "    if chromo == []:\n",
    "        return 0\n",
    "    solution = chromo_to_solution(chromo, matrix)\n",
    "    if verbose == True:\n",
    "        pp.pprint(solution)\n",
    "    C = [x[-1]['end'] for x in solution]\n",
    "    \n",
    "    return 1/max(C)"
   ]
  },
  {
   "cell_type": "markdown",
   "metadata": {},
   "source": [
    "### Generate initial population\n",
    "\n",
    "Given the chromosome size and population size, generates a random population"
   ]
  },
  {
   "cell_type": "code",
   "execution_count": 6,
   "metadata": {},
   "outputs": [],
   "source": [
    "def generate_initial_population(size_chromo, size_pop=100):\n",
    "    population = []\n",
    "    for pop in range(0, size_pop):\n",
    "        population.append(generate_chromo(size_chromo))\n",
    "    \n",
    "    return population"
   ]
  },
  {
   "cell_type": "markdown",
   "metadata": {},
   "source": [
    "### Mutation\n",
    "\n",
    "Mutates a chromosome swaping two random positions"
   ]
  },
  {
   "cell_type": "code",
   "execution_count": 7,
   "metadata": {},
   "outputs": [],
   "source": [
    "def mutation(chromo):\n",
    "    index1 = random.randrange(len(chromo))\n",
    "    index2 = random.randrange(len(chromo))\n",
    "    chromo[index1], chromo[index2] = chromo[index2], chromo[index1]\n",
    "    return chromo"
   ]
  },
  {
   "cell_type": "markdown",
   "metadata": {},
   "source": [
    "### Crossover\n",
    "\n",
    "Function that performs the crossover between two chromosomes"
   ]
  },
  {
   "cell_type": "code",
   "execution_count": 8,
   "metadata": {},
   "outputs": [],
   "source": [
    "def crossover(chromo1, chromo2):\n",
    "    chromo = [-1] * len(chromo1)\n",
    "    chromo2_ext = chromo2 + chromo2\n",
    "    \n",
    "    #Possible improvement - sequence goes around chromo\n",
    "    index1 = random.randrange(len(chromo))\n",
    "    index2 = random.randrange(index1, len(chromo))\n",
    "    \n",
    "    # Copy random sequence\n",
    "    for index in range(index1, index2+1):\n",
    "        chromo[index] = chromo1[index]\n",
    "    \n",
    "    # Complete last part of chromo\n",
    "    for index in range(index2 + 1, len(chromo)):\n",
    "        index_p = index\n",
    "        while chromo2_ext[index_p] in chromo:\n",
    "            index_p += 1\n",
    "            if index_p == len(chromo2_ext):\n",
    "                break\n",
    "        chromo[index] = chromo2_ext[index_p]\n",
    "            \n",
    "    # Complete first part of chromo\n",
    "    for index in range(0, index1):\n",
    "        index_p = index\n",
    "        while chromo2_ext[index_p] in chromo:\n",
    "            index_p += 1\n",
    "            if index_p == len(chromo2_ext):\n",
    "                break\n",
    "        chromo[index] = chromo2_ext[index_p]\n",
    "    \n",
    "    return chromo\n",
    "    "
   ]
  },
  {
   "cell_type": "markdown",
   "metadata": {},
   "source": [
    "### Help function\n",
    "\n",
    "The following functions perform small tasks to help the genetic algorithm"
   ]
  },
  {
   "cell_type": "code",
   "execution_count": 9,
   "metadata": {},
   "outputs": [],
   "source": [
    "def find_fittest(population):\n",
    "    fittest = population[0]\n",
    "    \n",
    "    for ind in population:\n",
    "        if fitness_func(ind, matrix) > fitness_func(fittest, matrix):\n",
    "            fittest = ind\n",
    "            \n",
    "    return ind"
   ]
  },
  {
   "cell_type": "code",
   "execution_count": 10,
   "metadata": {
    "scrolled": false
   },
   "outputs": [],
   "source": [
    "def kill_least_fit(population, kill_ratio):\n",
    "    population = [x for _,x in sorted(zip(list(map(lambda x: fitness_func(x, matrix), population)), population))]\n",
    "    population.reverse()\n",
    "    population = population[:math.ceil(len(population) * (1-kill_ratio))]\n",
    "    \n",
    "    return population"
   ]
  },
  {
   "cell_type": "code",
   "execution_count": 11,
   "metadata": {},
   "outputs": [],
   "source": [
    "def generate_ind_crossover(population, prob_array, mutation_prob):\n",
    "    if np.count_nonzero(prob_array) == 0:\n",
    "        prob_array = [1] * len(prob_array)\n",
    "    \n",
    "    parent1 = -1\n",
    "    while parent1 == -1:\n",
    "        index = random.randrange(0, len(prob_array))\n",
    "        if random.randrange(0, 100) < prob_array[index] * 100:\n",
    "            parent1 = index\n",
    "    \n",
    "    parent2 = -1\n",
    "    while parent2 == -1:\n",
    "        index = random.randrange(0, len(prob_array))\n",
    "        if random.randrange(0, 100) < prob_array[index] * 100:\n",
    "            parent2 = index\n",
    "    \n",
    "    chromo = crossover(population[parent1], population[parent2])\n",
    "    \n",
    "    if random.randrange(0, 100) < mutation_prob * 100:\n",
    "        chromo = mutation(chromo)\n",
    "    \n",
    "    return chromo"
   ]
  },
  {
   "cell_type": "code",
   "execution_count": 12,
   "metadata": {},
   "outputs": [],
   "source": [
    "def generate_offspring(population, population_size, mutation_prob, matrix):\n",
    "    fitness_array = list(map(lambda x: fitness_func(x, matrix), population))\n",
    "    fitness_array = np.array(fitness_array)\n",
    "    scaler = MinMaxScaler()\n",
    "    prob_array = scaler.fit_transform(fitness_array.reshape(-1,1))\n",
    "    while len(population) < population_size:\n",
    "        new_ind = generate_ind_crossover(population, prob_array, mutation_prob)\n",
    "        population.append(new_ind)\n",
    "    \n",
    "    return population"
   ]
  },
  {
   "cell_type": "code",
   "execution_count": 13,
   "metadata": {},
   "outputs": [],
   "source": [
    "# https://stackoverflow.com/questions/3173320/text-progress-bar-in-the-console\n",
    "# Function to define the progss bar\n",
    "def printProgressBar (iteration, total, prefix = '', suffix = '', decimals = 1, length = 100, fill = '█'):\n",
    "    \"\"\"\n",
    "    Call in a loop to create terminal progress bar\n",
    "    @params:\n",
    "        iteration   - Required  : current iteration (Int)\n",
    "        total       - Required  : total iterations (Int)\n",
    "        prefix      - Optional  : prefix string (Str)\n",
    "        suffix      - Optional  : suffix string (Str)\n",
    "        decimals    - Optional  : positive number of decimals in percent complete (Int)\n",
    "        length      - Optional  : character length of bar (Int)\n",
    "        fill        - Optional  : bar fill character (Str)\n",
    "    \"\"\"\n",
    "    percent = (\"{0:.\" + str(decimals) + \"f}\").format(100 * (iteration / float(total)))\n",
    "    filledLength = int(length * iteration // total)\n",
    "    bar = fill * filledLength + '-' * (length - filledLength)\n",
    "    print('\\r%s |%s| %s%% %s' % (prefix, bar, percent, suffix), end = '\\r')\n",
    "    # Print New Line on Complete\n",
    "    if iteration == total: \n",
    "        print()"
   ]
  },
  {
   "cell_type": "markdown",
   "metadata": {},
   "source": [
    "## Parameters"
   ]
  },
  {
   "cell_type": "code",
   "execution_count": 14,
   "metadata": {},
   "outputs": [],
   "source": [
    "matrix          = input_matrix\n",
    "chromo_size     = len(matrix) * len(matrix[0])\n",
    "population_size = 1000\n",
    "mutation_prob   = 0.05\n",
    "kill_pop_ratio  = 0.5\n",
    "max_iter        = 100"
   ]
  },
  {
   "cell_type": "markdown",
   "metadata": {},
   "source": [
    "## Genetic algorithm\n",
    "\n",
    "The algorithm works as follow:\n",
    "+ Generates a random initial solution\n",
    "+ Executes 'max_iter' iterations\n",
    "+ At each iteration it kills 'kill_pop_ratio' of the population\n",
    "+ It generates new individuals until the population is complete"
   ]
  },
  {
   "cell_type": "code",
   "execution_count": 16,
   "metadata": {},
   "outputs": [],
   "source": [
    "def genetic_algo():\n",
    "    cur_iter      = 1\n",
    "    best_solution = []\n",
    "    history       = []\n",
    "    population    = generate_initial_population(chromo_size, population_size)\n",
    "    \n",
    "    printProgressBar(0, max_iter, prefix = 'Progress:', suffix = 'Complete', length = 50)\n",
    "    \n",
    "    while cur_iter < max_iter:\n",
    "        best_gen      = find_fittest(population)\n",
    "        if fitness_func(best_gen, matrix) > fitness_func(best_solution, matrix):\n",
    "            best_solution = best_gen\n",
    "        population    = kill_least_fit(population, kill_pop_ratio)\n",
    "        population    = generate_offspring(population, population_size, mutation_prob, matrix)\n",
    "        \n",
    "        \n",
    "        history.append([1/fitness_func(best_solution, matrix), 1/fitness_func(best_gen, matrix)])\n",
    "        cur_iter += 1\n",
    "        printProgressBar(cur_iter, max_iter, prefix = 'Progress:', suffix = 'Complete', length = 50)\n",
    "    \n",
    "    return best_solution, history"
   ]
  },
  {
   "cell_type": "markdown",
   "metadata": {},
   "source": [
    "## Run the algorithm and show the result"
   ]
  },
  {
   "cell_type": "code",
   "execution_count": 17,
   "metadata": {
    "scrolled": false
   },
   "outputs": [
    {
     "name": "stdout",
     "output_type": "stream",
     "text": [
      "Progress: |██████████████████████████████████████████████████| 100.0% Complete\n",
      "Chromosome:  [5, 14, 11, 0, 2, 12, 8, 6, 9, 3, 15, 10, 13, 4, 1, 7]\n",
      "Cost:  195.0\n",
      "[[{'end': 34, 'job': 0, 'start': 0},\n",
      "  {'end': 129, 'job': 3, 'start': 34},\n",
      "  {'end': 167, 'job': 2, 'start': 129},\n",
      "  {'end': 182, 'job': 1, 'start': 167}],\n",
      " [{'end': 89, 'job': 1, 'start': 0},\n",
      "  {'end': 108, 'job': 2, 'start': 89},\n",
      "  {'end': 136, 'job': 3, 'start': 129},\n",
      "  {'end': 151, 'job': 0, 'start': 149}],\n",
      " [{'end': 34, 'job': 3, 'start': 0},\n",
      "  {'end': 88, 'job': 0, 'start': 34},\n",
      "  {'end': 159, 'job': 1, 'start': 89},\n",
      "  {'end': 195, 'job': 2, 'start': 167}],\n",
      " [{'end': 87, 'job': 2, 'start': 0},\n",
      "  {'end': 149, 'job': 0, 'start': 88},\n",
      "  {'end': 178, 'job': 3, 'start': 149},\n",
      "  {'end': 191, 'job': 1, 'start': 182}]]\n"
     ]
    }
   ],
   "source": [
    "best_sol, history = genetic_algo()\n",
    "print(\"Chromosome: \", best_sol)\n",
    "print(\"Cost: \", 1/fitness_func(best_sol, matrix))\n",
    "print(\"Solution: \")\n",
    "pp.pprint(chromo_to_solution(best_sol, matrix))"
   ]
  },
  {
   "cell_type": "markdown",
   "metadata": {},
   "source": [
    "## Plot best solution over time and best solution for each generation"
   ]
  },
  {
   "cell_type": "code",
   "execution_count": 22,
   "metadata": {},
   "outputs": [
    {
     "data": {
      "image/png": "[encoded data removed]",
      "text/plain": [
       "<Figure size 432x288 with 1 Axes>"
      ]
     },
     "metadata": {},
     "output_type": "display_data"
    }
   ],
   "source": [
    "plt.plot(range(0, len(history)), [x[0] for x in history])\n",
    "plt.plot(range(0, len(history)), [x[1] for x in history])\n",
    "plt.legend(['Best solution so far', 'Best solution current generation'])\n",
    "plt.show()"
   ]
  },
  {
   "cell_type": "code",
   "execution_count": null,
   "metadata": {},
   "outputs": [],
   "source": []
  }
 ],
 "metadata": {
  "kernelspec": {
   "display_name": "Python 3",
   "language": "python",
   "name": "python3"
  },
  "language_info": {
   "codemirror_mode": {
    "name": "ipython",
    "version": 3
   },
   "file_extension": ".py",
   "mimetype": "text/x-python",
   "name": "python",
   "nbconvert_exporter": "python",
   "pygments_lexer": "ipython3",
   "version": "3.6.1"
  }
 },
 "nbformat": 4,
 "nbformat_minor": 2
}
